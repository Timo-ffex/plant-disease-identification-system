{
  "nbformat": 4,
  "nbformat_minor": 0,
  "metadata": {
    "accelerator": "GPU",
    "colab": {
      "name": "built_model_for_multiclass_image_classification.ipynb",
      "provenance": [],
      "collapsed_sections": []
    },
    "kernelspec": {
      "display_name": "Python 3",
      "name": "python3"
    }
  },
  "cells": [
    {
      "cell_type": "markdown",
      "metadata": {
        "id": "eQfuQ9pZdO4I"
      },
      "source": [
        "# About Notebook\n",
        "This is a notebook designed to train the plant disease dataset found on Kaggle, [here](https://www.kaggle.com/vipoooool/new-plant-diseases-dataset). I made this notebook to have a built network to train plant diseases. With little understanding of Keras, the notebook should be easly to re-use by users. To use this notebook, I seperated the plant dataset into different plants and they were trained seperately."
      ]
    },
    {
      "cell_type": "markdown",
      "metadata": {
        "id": "ZbTlLs4tU9Oz"
      },
      "source": [
        "# Import necessery libraries"
      ]
    },
    {
      "cell_type": "code",
      "metadata": {
        "id": "BmYXEOS_U_Qo"
      },
      "source": [
        "from tensorflow.keras.layers import Input, Lambda, Dense, Flatten\n",
        "from tensorflow.keras.models import Model, Sequential\n",
        "from tensorflow.keras.applications.inception_v3 import InceptionV3\n",
        "from tensorflow.keras.applications.inception_v3 import preprocess_input\n",
        "from tensorflow.keras.preprocessing import image\n",
        "from tensorflow.keras.preprocessing.image import ImageDataGenerator, load_img\n",
        "import numpy as np\n",
        "import pandas as pd\n",
        "from glob import glob"
      ],
      "execution_count": null,
      "outputs": []
    },
    {
      "cell_type": "code",
      "metadata": {
        "id": "iqe2k_weU_8_",
        "outputId": "cf49c6df-cb72-48fb-85ed-cf119a94cc16",
        "colab": {
          "base_uri": "https://localhost:8080/",
          "height": 34
        }
      },
      "source": [
        "from google.colab import drive\n",
        "drive.mount('/content/drive', force_remount=True)"
      ],
      "execution_count": null,
      "outputs": [
        {
          "output_type": "stream",
          "text": [
            "Mounted at /content/drive\n"
          ],
          "name": "stdout"
        }
      ]
    },
    {
      "cell_type": "markdown",
      "metadata": {
        "id": "kArhlGKmVKSv"
      },
      "source": [
        "# Load filepath and set constant image size"
      ]
    },
    {
      "cell_type": "code",
      "metadata": {
        "id": "SJwxOOjbaRSX",
        "outputId": "088ba8d1-d7fd-495b-e977-5b5db92c4ed5",
        "colab": {
          "base_uri": "https://localhost:8080/",
          "height": 105
        }
      },
      "source": [
        "IMAGE_SIZE = [224, 224]\n",
        "\n",
        "base_dir = '/content/drive/My Drive/datasets/Plants/cassava'\n",
        "train_path = base_dir + '/train'\n",
        "validation_path = base_dir + '/valid'\n",
        "\n",
        "folders = glob(train_path + '/*')\n",
        "folders"
      ],
      "execution_count": null,
      "outputs": [
        {
          "output_type": "execute_result",
          "data": {
            "text/plain": [
              "['/content/drive/My Drive/datasets/Plants/cassava/train/cgm',\n",
              " '/content/drive/My Drive/datasets/Plants/cassava/train/cmd',\n",
              " '/content/drive/My Drive/datasets/Plants/cassava/train/healthy',\n",
              " '/content/drive/My Drive/datasets/Plants/cassava/train/cbb',\n",
              " '/content/drive/My Drive/datasets/Plants/cassava/train/cbsd']"
            ]
          },
          "metadata": {
            "tags": []
          },
          "execution_count": 3
        }
      ]
    },
    {
      "cell_type": "markdown",
      "metadata": {
        "id": "PqgGZ1URV2Ja"
      },
      "source": [
        "# Observe the data in the dataset\n",
        "It is important to observe how th data is distributed across all categories. This is to know if you are working with balanced or imbalanced dataset"
      ]
    },
    {
      "cell_type": "code",
      "metadata": {
        "id": "e-yjiWl3V6OR"
      },
      "source": [
        "def observe_data(fpath):\n",
        "  import os\n",
        "  import pandas as pd\n",
        "  import matplotlib.pyplot as plt\n",
        "\n",
        "  data = {}\n",
        "\n",
        "  plant_classes = [x[0] for x in os.walk(fpath) ]\n",
        "  for fpath in plant_classes[1:]:\n",
        "    items = os.listdir(fpath)\n",
        "    \n",
        "    data[fpath.split('/')[-1]] = len(items)\n",
        "    \n",
        "  df = pd.DataFrame(list(data.items() ), columns=['class', 'number of images'])\n",
        "\n",
        "  plt.bar(df['class'], df['number of images'], color='rgbkymc')\n",
        "  for index, value in enumerate(df['number of images']):\n",
        "      s = '{}'.format(value)\n",
        "      plt.text(index,value , str(s), fontsize=8)\n",
        "  plt.xticks(rotation=90)\n",
        "  plt.show()\n",
        "  return df\n"
      ],
      "execution_count": null,
      "outputs": []
    },
    {
      "cell_type": "code",
      "metadata": {
        "id": "ES1lrVStvOW2",
        "outputId": "14629f42-fc0f-4a42-8388-1a6c05a76652",
        "colab": {
          "base_uri": "https://localhost:8080/",
          "height": 348
        }
      },
      "source": [
        "df = observe_data(train_path)"
      ],
      "execution_count": null,
      "outputs": [
        {
          "output_type": "stream",
          "text": [
            "/usr/local/lib/python3.6/dist-packages/ipykernel_launcher.py:16: MatplotlibDeprecationWarning: Using a string of single character colors as a color sequence is deprecated. Use an explicit list instead.\n",
            "  app.launch_new_instance()\n"
          ],
          "name": "stderr"
        },
        {
          "output_type": "display_data",
          "data": {
            "image/png": "[encoded data removed]",
            "text/plain": [
              "<Figure size 432x288 with 1 Axes>"
            ]
          },
          "metadata": {
            "tags": [],
            "needs_background": "light"
          }
        }
      ]
    },
    {
      "cell_type": "markdown",
      "metadata": {
        "id": "wmSVsNtKX1HX"
      },
      "source": [
        "# Callbacks"
      ]
    },
    {
      "cell_type": "code",
      "metadata": {
        "id": "dT1_evpCX4y6"
      },
      "source": [
        "from keras.callbacks import EarlyStopping, ReduceLROnPlateau, ModelCheckpoint\n",
        "\n",
        "earlystopping = EarlyStopping(              # interrupts training when improvement stops\n",
        "                  monitor='val_accuracy',   # Monitors the model’s validation accuracy\n",
        "                  patience=6 )              # Interrupt when model doesn't increase after 6 steps\n",
        "\n",
        "\n",
        "checkpoint =  ModelCheckpoint(                           # Saves the current weights after every epoch\n",
        "                  filepath=base_dir + '/my_model_checkpoint.h5',     # Path to the destination model file\n",
        "\n",
        "                  # These two arguments mean you won’t overwrite the\n",
        "                  # model file unless val_loss has improved, which allows\n",
        "                  # you to keep the best model seen during training.\n",
        "                  monitor='val_loss',\n",
        "                  save_best_only=True )\n"
      ],
      "execution_count": null,
      "outputs": []
    },
    {
      "cell_type": "markdown",
      "metadata": {
        "id": "r8mjTO87YH9N"
      },
      "source": [
        "# Processing input"
      ]
    },
    {
      "cell_type": "code",
      "metadata": {
        "id": "7QbYPvSsYK3n"
      },
      "source": [
        "def process_input(train_path, validation_path):\n",
        "  train_datagen = ImageDataGenerator(\n",
        "                rescale=1./255,\n",
        "                rotation_range=40,\n",
        "                width_shift_range=0.2,\n",
        "                height_shift_range=0.2,\n",
        "                shear_range=0.2,\n",
        "                zoom_range=0.2,\n",
        "                horizontal_flip=True)\n",
        "\n",
        "  # Validation set should not be argumented\n",
        "  test_datagen = ImageDataGenerator(rescale=1./255)\n",
        "\n",
        "  train_generator = train_datagen.flow_from_directory(\n",
        "                train_path,                  # target directory\n",
        "                target_size=IMAGE_SIZE,      # resize image to 224 x 224\n",
        "                batch_size=20,\n",
        "                class_mode='categorical')\n",
        "\n",
        "  validation_generator = test_datagen.flow_from_directory(\n",
        "                  validation_path,\n",
        "                  target_size=IMAGE_SIZE,\n",
        "                  batch_size=20,\n",
        "                  class_mode='categorical')\n",
        "  \n",
        "  return train_generator, validation_generator"
      ],
      "execution_count": null,
      "outputs": []
    },
    {
      "cell_type": "markdown",
      "metadata": {
        "id": "x71l0Bb7Wodl"
      },
      "source": [
        "# Using a pretrained network to build the model\n",
        "## Instantiating the inception V3 convolutional base"
      ]
    },
    {
      "cell_type": "code",
      "metadata": {
        "id": "yg-SUI8FWsRW"
      },
      "source": [
        "def model_def(folders):\n",
        "  inception_conv_base = InceptionV3(input_shape= IMAGE_SIZE + [3],\n",
        "                        weights='imagenet',\n",
        "                        include_top=False)\n",
        "  \n",
        "  model = Sequential()\n",
        "  model.add( inception_conv_base )\n",
        "  model.add( Flatten() )\n",
        "  model.add( Dense(len(folders), activation='softmax') )\n",
        "\n",
        "  model.compile( loss='categorical_crossentropy',\n",
        "              optimizer='adam',\n",
        "              metrics=['accuracy'])\n",
        "  \n",
        "  return model"
      ],
      "execution_count": null,
      "outputs": []
    },
    {
      "cell_type": "markdown",
      "metadata": {
        "id": "D4v5L2ISZO2f"
      },
      "source": [
        "# Train Model"
      ]
    },
    {
      "cell_type": "code",
      "metadata": {
        "id": "WuoMqIVFZRbC",
        "outputId": "3e097cf9-205a-4650-ba77-d9d739f524f2",
        "colab": {
          "base_uri": "https://localhost:8080/",
          "height": 354
        }
      },
      "source": [
        "from time import time\n",
        "\n",
        "start = time()\n",
        "\n",
        "model = model_def(folders)\n",
        "train_generator, validation_generator = process_input(train_path, validation_path)\n",
        "\n",
        "history = model.fit_generator(\n",
        "            train_generator,\n",
        "            validation_data=validation_generator,\n",
        "            epochs=20,\n",
        "            steps_per_epoch=len(train_generator),\n",
        "            validation_steps=len(validation_generator),\n",
        "            callbacks=[earlystopping, checkpoint])\n",
        "\n",
        "# save model\n",
        "model.save(base_dir + '/maize_inception_v3.h5')\n",
        "print('\\n\\nDuration: {} seconds'.format(time() - start))"
      ],
      "execution_count": null,
      "outputs": [
        {
          "output_type": "stream",
          "text": [
            "Downloading data from https://storage.googleapis.com/tensorflow/keras-applications/inception_v3/inception_v3_weights_tf_dim_ordering_tf_kernels_notop.h5\n",
            "87916544/87910968 [==============================] - 1s 0us/step\n",
            "Found 7316 images belonging to 4 classes.\n",
            "Found 1829 images belonging to 4 classes.\n",
            "WARNING:tensorflow:From <ipython-input-19-c179efabdf61>:14: Model.fit_generator (from tensorflow.python.keras.engine.training) is deprecated and will be removed in a future version.\n",
            "Instructions for updating:\n",
            "Please use Model.fit, which supports generators.\n",
            "Epoch 1/20\n",
            "366/366 [==============================] - 2187s 6s/step - loss: 0.7837 - accuracy: 0.8324 - val_loss: 1.4413 - val_accuracy: 0.8425\n",
            "Epoch 2/20\n",
            "366/366 [==============================] - 128s 349ms/step - loss: 0.2450 - accuracy: 0.9237 - val_loss: 0.1204 - val_accuracy: 0.9710\n",
            "Epoch 3/20\n",
            "366/366 [==============================] - 125s 343ms/step - loss: 0.4051 - accuracy: 0.8949 - val_loss: 52.0264 - val_accuracy: 0.7862\n",
            "Epoch 4/20\n",
            "366/366 [==============================] - 132s 361ms/step - loss: 0.2576 - accuracy: 0.9256 - val_loss: 0.1042 - val_accuracy: 0.9617\n",
            "Epoch 5/20\n",
            "366/366 [==============================] - 126s 344ms/step - loss: 0.1913 - accuracy: 0.9434 - val_loss: 0.1316 - val_accuracy: 0.9508\n",
            "Epoch 6/20\n",
            "366/366 [==============================] - 124s 340ms/step - loss: 0.1721 - accuracy: 0.9494 - val_loss: 0.1702 - val_accuracy: 0.9420\n"
          ],
          "name": "stdout"
        }
      ]
    },
    {
      "cell_type": "code",
      "metadata": {
        "id": "sYQSb1HRl9t0",
        "outputId": "1103e5ce-6e2c-425c-e9c2-e6979db84842",
        "colab": {
          "base_uri": "https://localhost:8080/",
          "height": 87
        }
      },
      "source": [
        "test_loss, test_acc = model.evaluate_generator(validation_generator, steps=50)\n",
        "print('test acc:', test_acc)\n"
      ],
      "execution_count": null,
      "outputs": [
        {
          "output_type": "stream",
          "text": [
            "WARNING:tensorflow:From <ipython-input-20-bc5a35dcbf02>:1: Model.evaluate_generator (from tensorflow.python.keras.engine.training) is deprecated and will be removed in a future version.\n",
            "Instructions for updating:\n",
            "Please use Model.evaluate, which supports generators.\n",
            "test acc: 0.925000011920929\n"
          ],
          "name": "stdout"
        }
      ]
    },
    {
      "cell_type": "code",
      "metadata": {
        "id": "34gz4xGsaK3A",
        "outputId": "17d2bcdf-cfa0-4d4c-b8fd-e09f00418b3b",
        "colab": {
          "base_uri": "https://localhost:8080/",
          "height": 34
        }
      },
      "source": [
        "from tensorflow.keras.models import Sequential, save_model, load_model\n",
        "import numpy as np\n",
        "\n",
        "IMAGE_SIZE = [224, 224]\n",
        "filepath = base_dir + '/my_model_checkpoint.h5'\n",
        "\n",
        "model_2 = load_model(\n",
        "    filepath,\n",
        "    custom_objects=None,\n",
        "    compile=True)\n",
        "\n",
        "test_loss, test_acc = model_2.evaluate_generator(validation_generator, steps=50)\n",
        "print('test acc:', test_acc)"
      ],
      "execution_count": null,
      "outputs": [
        {
          "output_type": "stream",
          "text": [
            "test acc: 0.9629999995231628\n"
          ],
          "name": "stdout"
        }
      ]
    },
    {
      "cell_type": "markdown",
      "metadata": {
        "id": "SFRK4c0ymvrK"
      },
      "source": [
        "# Plot"
      ]
    },
    {
      "cell_type": "code",
      "metadata": {
        "id": "_U9nDsddmdTC",
        "outputId": "e34f5c1d-66c9-44bc-b1af-80333d05a45f",
        "colab": {
          "base_uri": "https://localhost:8080/",
          "height": 267
        }
      },
      "source": [
        "def plot_history(history):\n",
        "    import pandas as pd\n",
        "    import matplotlib.pyplot as plt\n",
        "    history_dict = history.history\n",
        "    df = pd.DataFrame(history_dict)\n",
        "\n",
        "    plt.rcParams['figure.figsize'] = [10, 3.5]\n",
        "    fig, axs = plt.subplots(1, 2)\n",
        "    plt.subplots_adjust(hspace=0.5, wspace=0.2)\n",
        "    p1, p2 = axs[0], axs[1]\n",
        "\n",
        "    epochs = range(1, len(df.index) + 1)\n",
        "    p1.plot(epochs, df[df.columns[0]], 'ro', label='Training loss')\n",
        "    p1.plot(epochs, df[df.columns[2]], 'r', label='Validation loss')\n",
        "    p1.set_title('Training and validation loss')\n",
        "    p1.set_xlabel('Epochs')\n",
        "    p1.set_ylabel('Loss')\n",
        "    p1.legend()\n",
        "\n",
        "    p2.plot(epochs, df[df.columns[1]], 'bo', label='Training acc')\n",
        "    p2.plot(epochs, df[df.columns[3]], 'b', label='Validation acc')\n",
        "    p2.set_title('Training and validation accuracy')\n",
        "    p2.set_xlabel('Epochs')\n",
        "    p2.set_ylabel('Accuracy')\n",
        "    p2.legend()\n",
        "\n",
        "    plt.show()\n",
        "\n",
        "plot_history(history)"
      ],
      "execution_count": null,
      "outputs": [
        {
          "output_type": "display_data",
          "data": {
            "image/png": "[encoded data removed]",
            "text/plain": [
              "<Figure size 720x252 with 2 Axes>"
            ]
          },
          "metadata": {
            "tags": [],
            "needs_background": "light"
          }
        }
      ]
    },
    {
      "cell_type": "code",
      "metadata": {
        "id": "a4hmVtaBmx-Q"
      },
      "source": [
        ""
      ],
      "execution_count": null,
      "outputs": []
    }
  ]
}